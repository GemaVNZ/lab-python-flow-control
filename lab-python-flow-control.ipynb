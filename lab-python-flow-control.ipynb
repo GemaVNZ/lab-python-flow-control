{
 "cells": [
  {
   "cell_type": "markdown",
   "id": "d3bfc191-8885-42ee-b0a0-bbab867c6f9f",
   "metadata": {
    "tags": []
   },
   "source": [
    "# Lab | Flow Control"
   ]
  },
  {
   "cell_type": "markdown",
   "id": "3851fcd1-cf98-4653-9c89-e003b7ec9400",
   "metadata": {},
   "source": [
    "## Exercise: Managing Customer Orders Optimized\n",
    "\n",
    "In the last lab, you were starting an online store that sells various products. To ensure smooth operations, you developed a program that manages customer orders and inventory.\n",
    "\n",
    "You did so without using flow control. Let's go a step further and improve this code.\n",
    "\n",
    "Follow the steps below to complete the exercise:\n",
    "\n",
    "1. Look at your code from the lab data structures, and improve repeated code with loops.\n",
    "\n",
    "2. Instead of asking the user to input the name of three products that a customer wants to order, do the following:\n",
    "    \n",
    "    a. Prompt the user to enter the name of a product that a customer wants to order.\n",
    "    \n",
    "    b. Add the product name to the \"customer_orders\" set.\n",
    "    \n",
    "    c. Ask the user if they want to add another product (yes/no).\n",
    "    \n",
    "    d. Continue the loop until the user does not want to add another product.\n",
    "\n",
    "3. Instead of updating the inventory by subtracting 1 from the quantity of each product, only do it for  the products that were ordered (those in \"customer_orders\")."
   ]
  },
  {
   "cell_type": "code",
   "execution_count": 14,
   "id": "432d0e11",
   "metadata": {},
   "outputs": [
    {
     "name": "stdout",
     "output_type": "stream",
     "text": [
      "mug en stock\n",
      "book en stock\n",
      "Pedido completado.Productos en tu pedido: {'mug', 'book'}\n",
      "Inventario actualizado: {'t-shirt': 10, 'mug': 4, 'hat': 7, 'book': 7, 'keychain': 5}\n"
     ]
    }
   ],
   "source": [
    "inventory =  {\n",
    "    \"t-shirt\": 10,\n",
    "    \"mug\": 5,\n",
    "    \"hat\": 7,\n",
    "    \"book\": 8,\n",
    "    \"keychain\": 5\n",
    "}\n",
    "\n",
    "products = (\"t-shirt\", \"mug\", \"hat\", \"book\", \"keychain\")\n",
    "\n",
    "customer_order = set()\n",
    "\n",
    "while True:\n",
    "    product = input(\"Introduce el nombre del producto que quieres: \").lower() \n",
    "    \n",
    "    if product in inventory and inventory[product] > 0:\n",
    "        print(f\"{product} en stock\")\n",
    "        customer_order.add(product)\n",
    "    \n",
    "    else:\n",
    "        print(f\"{product} sin stock\")\n",
    "    \n",
    "    another = input(\"¿Quieres otro producto? (si/no): \").lower()\n",
    "    \n",
    "    if another == \"no\":\n",
    "        break\n",
    "\n",
    "print(f\"Pedido completado.\" f\" Productos en tu pedido: {customer_order}\")\n",
    "\n",
    "for product in customer_order:\n",
    "    inventory[product] -= 1\n",
    "\n",
    "print(\"Inventario actualizado:\", inventory)\n",
    "\n",
    "\n"
   ]
  }
 ],
 "metadata": {
  "kernelspec": {
   "display_name": "Python 3 (ipykernel)",
   "language": "python",
   "name": "python3"
  },
  "language_info": {
   "codemirror_mode": {
    "name": "ipython",
    "version": 3
   },
   "file_extension": ".py",
   "mimetype": "text/x-python",
   "name": "python",
   "nbconvert_exporter": "python",
   "pygments_lexer": "ipython3",
   "version": "3.12.4"
  }
 },
 "nbformat": 4,
 "nbformat_minor": 5
}
